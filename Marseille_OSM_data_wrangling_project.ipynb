{
 "cells": [
  {
   "cell_type": "markdown",
   "metadata": {},
   "source": [
    "\n",
    "# Project: OpenStreetMap Marseille data wrangling and analysis\n",
    "\n",
    "\n",
    "## Table of Contents\n",
    "<ul>\n",
    "<li><a href=\"#intro\">Introduction</a></li>\n",
    "<li><a href=\"#audit&cleaning\">Problems encountered in the map dataset</a></li>\n",
    "<li><a href=\"#SQL_database\">SQL database</a></li>\n",
    "<li><a href=\"#overview\">Overview of the data</a></li>\n",
    "<li><a href=\"#other_ideas\">Other ideas about the dataset</a></li>\n",
    "<li><a href=\"#conclusion\">Conclusions</a></li>\n",
    "<li><a href=\"#ref\">References</a></li>\n",
    "</ul>"
   ]
  },
  {
   "cell_type": "markdown",
   "metadata": {},
   "source": [
    "<a id='intro'></a>\n",
    "## Introduction\n",
    "\n",
    "I decided to choose the map of Marseille, in France, as OpenStreetMap dataset for this project. I grew up in Marseille as child and then teenager, so I was keen on seeing how well this map currently is. Besides, I supposed that my knowledge of the city might help while auditing and cleaning the data (especially whenever manual corrections are needed). \n",
    "\n",
    "Marseille OSM data was exported from OpenStreetMap website (<a href=\"#ref 1\">ref 1</a>) using the Overpass API: https://overpass-api.de/api/map?bbox=5.2818,43.1696,5.4502,43.3698. Note that the rectangular latitude/longitude box used for this export was chosen so that to exclude the neighboring  towns of Plan-de-Cuques, Allauch and Septèmes-les-Vallons.\n",
    "\n",
    "This 'original' OSM file, exported on 02/11/2018 is a 360 Mb XML file. With my computer, I was not able to open it as is with NotePad++ text editor. In order to be able to tune my auditing and cleaning code, I also exported a much smaller OSM data file (only 25 Mb), focusing on the very town center of Marseille (Vieux-Port, La Canebière, Saint-Charles). \n"
   ]
  },
  {
   "cell_type": "markdown",
   "metadata": {},
   "source": [
    "Needed packages:"
   ]
  },
  {
   "cell_type": "code",
   "execution_count": 6,
   "metadata": {
    "collapsed": true
   },
   "outputs": [],
   "source": [
    "# Image display\n",
    "from IPython.display import Image\n",
    "# SQLite DB-API\n",
    "import sqlite3\n",
    "# Data visualization\n",
    "import matplotlib.pyplot as plt\n",
    "import numpy as np\n",
    "import seaborn as sns\n",
    "%matplotlib inline"
   ]
  },
  {
   "cell_type": "markdown",
   "metadata": {},
   "source": [
    "<a id='audit&cleaning'></a>\n",
    "## Problems encountered in the map dataset\n",
    "\n",
    "The aim of the data auditing and cleaning step is to prepare the OSM data in Marseille map for import in a database using the schema given in <a href=\"#ref 2\">ref 2</a>. Systematic data type and structure validity check will be performed versus a schema (schema.py, provided in Data Wrangling case study module) using a Cerberus (<a href=\"#ref 3\">ref 3</a>) validator. This validaty check is done \"on the fly\" while iterating through the OSM file and writing the CSV files that will be used to populate the SQL database.   \n",
    "\n",
    "The following additional audits were performed:\n",
    "- on data validity: \n",
    "    - are nodes and way id unique ?\n",
    "    - are user names, nodes 'k' tags and ways 'k' tags strings that do not contain any problematic character ?\n",
    "    - does any way element contain at least 2 different nodes references? \n",
    "- on data accuracy: are all the adresses of the OSM file present in the reference 'BAN' (Base Adresse nationale, <a href=\"#ref 4\">ref 4</a>) ?  \n",
    "- on data completeness: are there adresses present in the BAN that are missing in the OSM file ? \n",
    "- on data uniformity:\n",
    "    - are latitude and longitude data in the range of expected values ?\n",
    "    - are timestamp values in the range of OSM project time frame ?\n",
    "    - are node/way k-tag values refering to the same quantity (height, weight, speed) expressed in the same unit (m, kg, km/h) ?  \n",
    "    \n",
    "### Data validity check\n",
    "The different audits dealing with data validity showed good results: \n",
    "- the node and way id are unique as they should be\n",
    "- no problematic character was found on user names and k-subtags strings\n",
    "- all way elements contain at least 2 different node references.\n",
    "\n",
    "However, further check of way/node consistency for 'closed' way elements showed that the guideline provided by OSM wiki (<a href=\"#ref 5\">ref 5</a>) was not always followed. Indeed, 259 closed way elements were found where the id of the first node does not match with the id of the last node.  We went to have a look at some of them in the OSM map.\n",
    "\n",
    "One of these closed way elements, the \"Place du Château-Joly\"  (way id 6312650), is shown below as an example:\n",
    "\n",
    "Image(\"place_chateau_joly.png\")\n",
    "![Château Joly - OSM map](place_chateau_joly.png)\n",
    "\n",
    "As can be seen, this closed way element is in fact a \"closed loop\" parking with its access way. The fact that the loop and the access way were tagged under the same way element makes it impossible to respect the rule given by the OSM wiki. In order to comply with OSM definition for closed way, it would be necessary to split the element into a closed loop and the access way. \n",
    "\n",
    "\n",
    "### Validity check on node and way elements' 2nd-level k-tags\n",
    "We had a closer look at the node and way k-tags, where we expected to find more human-generated tags (and thus format heterogeneity, typos and other interesting information for the dataset cleaning). \n",
    "\n",
    "First, we saw that some k-tags ('FIXME','fixme' and 'abandoned') were used to highlight elements whose validity had to be confirmed: doubt on the location of the element, elements that have a characteristic that changed (typically an amenity that moved from one location to another)... We decided not to include in the SQL database the elements that contains one of these k-tags.\n",
    "\n",
    "Secondly, we identified k-tags whose value shall be an integer: 'levels' (number of levels in a building) and 'capacity' (maximum number of people that can fit in the place). It was checked that these k-tags did not present any non-integer value in the OSM file.\n",
    "\n",
    "Several k-tags were also detected whose value shall be a float: 'roof:height', 'min_height', 'maxheight', 'maxwidth', 'maxspeed', 'zone:maxspeed','maxweight'. We first checked the validity of these data: \n",
    "- only 1 'maxheight' k-tag was found with a non-float value (string '3 m' instead of just the float 3)\n",
    "- only 1 'maxwidth' k-tag was found with a non-float value (string '2.2m' instead of just the float 2.2)\n",
    "- only 1 'maxweight' k-tag was found with a non-float value (string '5 t' instead of just the float 5).\n",
    "- zone:maxspeed was found to be homogeneously defined as a string composed of the country code (FR) followed by a colon, and then the speed limitation in km/h, i.e 'FR:30'.  \n",
    "\n",
    "For these float k-tags, an audit of the data uniformity was also conducted. The list of values of each k-tags was plotted as a boxplot and as a histogram (see example below for 'maxheight' - the other plots can be found in the step 2 notebook). \n",
    " Image(\"maxheight_boxplot&histogram.png\")\n",
    "![maxheight k-tag values - OSM map](maxheight_boxplot&histogram.png)\n",
    "\n",
    "No heterogeneity in terms of unit was discovered on the box plots and histograms:\n",
    "- speeds are in km/h\n",
    "- widths are in m\n",
    "- weights are in tons\n",
    "- roof:height and max height are in m\n",
    "- on the other hand, min_height is seeminlgy in cm \n",
    "\n",
    "\n",
    "\n",
    "### Address data accuracy and completeness\n",
    "A specific look at the \"addr:\" k-tags showed that they were mainly used for node elements. This is where we focused our audit and cleaning.\n",
    "\n",
    "For the city, postcode and street information of node elements, we not only checked the validity but also the accuracy and completeness of the data by comparing the content the osm map with the \"Base Adresses Nationales\" (BAN) database. This databse is the result of a common work involving the French \"Direction générales des finances publiques\" (branch of the Finance Minestry), the national institute of geographic information (IGN), Open Street Map France, and the French Post Office. \n",
    "\n",
    "The data from the BAN corresponding to the department of the \"Bouches-du-Rhône\" was exported as a CSV file from BAN website (<a href=\"#ref 6\">ref 6</a>). In this CSV we kept the columns corresponding to the street ('voie'), the postcode ('code_post') and the city ('commune').\n",
    "\n",
    "The audit strategy was the following: \n",
    "- Most node elements did not have addr:street neither addr:postcode nor addr:city k-tags. For these elements, we could not use the BAN database.\n",
    "- When only the addr:city k-tag existed, we checked that it belonged to the list of cities extracted from the BAN. If not in the list, we looked whether there was a close match using difflib library. We corrected the cityvalue if needed.\n",
    "- When there was no addr:street k-tag but at least addr:postcode k-tag, we used the BAN to check the postcode and correct it if needed. When present, the city value was cross-checked, otherwise it was created (data completion). \n",
    "- Finally, when addr:street was defined, we used the BAN to cross-check the street name. If not in the BAN streets list, we used the the difflib library to get the closest match. We then corrected/created the postcode and/or city value using the BAN.\n",
    "\n",
    "In the OSM file, about 20000 node elements had a street information either already OK or that could easily be fixed using the BAN database. On the other hand, only about 4000 node elements had postcode and/or city information defined: the postcode/city completion process was therefore quite relevant.  \n",
    "\n",
    "\n",
    "### Estimate of data completeness\n",
    "We also aimed at estimating the degree of completeness of the Marseille map. We proposed a simple indicator: the ratio between the number of unique streetnames in the OSM file and in the BAN database. A ratio close to 1 means that almost all the streets in the BAN database are represented in the OSM map (in at least 1 node element). On the other hand, a low ratio means that there are several streets in the map that do not have any node element which references them. \n",
    "\n",
    "We found a completeness indicator of 0.22, meaning that less than 1 in 4 streets is not tagged in any node element. Several reasons can explain such a low ratio:\n",
    "- [OSM map]: As stated above in introduction, the rectangular latitude/longitude box used to export OSM Marseille map was chosen so that to exclude the neighboring towns of Plan-de-Cuques, Allauch and Septèmes-les-Vallons. By doing this, and due to the shape of Marseille, some data from the North and East parts of the city was missing in the OSM file. \n",
    "- [Completeness indicator]: By design, the completeness indicator is only based on the node elements street k-tags. Considering the way-elements k-tags would improve the ratio.\n",
    "- [Completeness indicator]: the indicator is based on street k-tags. These k-tags are mainly used to precise the address of a point of interest (amenity...) They are seldomly used to reference houses in residential area. In fact the defined indicator could also be seen as an estimate of the proportion of streets with at least one point of interest, as opposed to purely residential streets. With this definition a ratio of 0.22 is not suprising knowing the structure of Marseille.\n",
    "\n",
    "\n",
    "### Data uniformity check on space and time\n",
    "\n",
    "We first checked the uniformity of the elements' timestamps. According to wikipedia (<a href=\"#ref 7\">ref 7</a>), OSM project started in 2004. Taking a little bit of margin, we expect all the entries of the dataset to have a timestamp corresponding to year above 2001 and before 2019 (as we are in November 2018). No element with unexpected timestamp was found in the Marseille OSM file.\n",
    "\n",
    "A similar uniformity check was performed on node elements latitude and longitude data. We are dealing with data from Marseille, in France, so the latitude should be between 43 and 43.5 degrees, and the longitude should be between 5 and 6 degrees.\n",
    "\n",
    "We expect these longitude and latitude data to be valid because the dataset was extracted from a query were the latitude and longitude are chosen. Quite surprisingly, 145 node elements were detected where the latitude and/or the longitude data was out of the expected range. See for example below the first of these elements found in the Marseille OSM file. This latitude/longitude pair corresponds to the city of Annaba, in Algeria.  \n",
    "\n",
    "Element with unexpected latitude and/or longitude:  {'id': '66891736', 'lat': '36.8967845', 'lon': '7.7646249', 'version': '6', 'timestamp': '2017-07-06T12:58:59Z', 'changeset': '50084656', 'uid': '4860517', 'user': 'أ ش'}\n",
    "\n",
    "These 145 node elements with inconsistent latitude or longitude information were not parsed to the SQL database.  "
   ]
  },
  {
   "cell_type": "markdown",
   "metadata": {},
   "source": [
    "<a id='SQL_database'></a>\n",
    "## SQL database\n",
    "\n",
    "In this part we create the Marseille OSM SQL database and populate it with the CSV tables. To do so, we first put in the same local folder \\sqlite_windows the following files:\n",
    "- sqlite3.exe\n",
    "- data_wrangling_schema.sql (given in <a href=\"#ref 2\">ref 2</a>)\n",
    "- the 5 CSV files with clean node and way elements data from Marseille OSM map\n",
    "\n",
    "We then create the Marseille_OSM.db database, and import the sql schema:"
   ]
  },
  {
   "cell_type": "code",
   "execution_count": null,
   "metadata": {
    "collapsed": true
   },
   "outputs": [],
   "source": [
    "\\sqlite_windows>sqlite3 Marseille_OSM.db \n",
    "sqlite> .read data_wrangling_schema.sql"
   ]
  },
  {
   "cell_type": "markdown",
   "metadata": {},
   "source": [
    "Last step is to import the csv files into the appropriate tables:"
   ]
  },
  {
   "cell_type": "code",
   "execution_count": null,
   "metadata": {
    "collapsed": true
   },
   "outputs": [],
   "source": [
    "sqlite> .mode csv\n",
    "sqlite> .import nodes.csv nodes\n",
    "sqlite> .import nodes_tags.csv nodes_tags\n",
    "sqlite> .import ways.csv ways\n",
    "sqlite> .import ways_tags.csv ways_tags\n",
    "sqlite> .import ways_nodes.csv ways_nodes"
   ]
  },
  {
   "cell_type": "markdown",
   "metadata": {},
   "source": [
    "The SQL database is now ready for the dataset investigation. For information the file sizes is given here below:"
   ]
  },
  {
   "cell_type": "code",
   "execution_count": null,
   "metadata": {
    "collapsed": true
   },
   "outputs": [],
   "source": [
    "- Marseille_OSM_map.osm ..... 358 MB\n",
    "- nodes.csv ................. 110 MB\n",
    "- nodes_tags.csv ............ 9.8 MB\n",
    "- ways.csv .................. 16 MB\n",
    "- ways_tags.csv ............. 42 MB\n",
    "- ways_nodes.csv ............ 49 MB\n",
    "- Marseille_OSM.db .......... 202 MB"
   ]
  },
  {
   "cell_type": "markdown",
   "metadata": {},
   "source": [
    "<a id='overview'></a>\n",
    "## Overview of the data\n",
    "\n",
    "### Number of nodes and ways:"
   ]
  },
  {
   "cell_type": "code",
   "execution_count": null,
   "metadata": {
    "collapsed": true
   },
   "outputs": [],
   "source": [
    "sqlite> select count(*) from nodes; \n",
    "sqlite> select count(*) from ways; "
   ]
  },
  {
   "cell_type": "markdown",
   "metadata": {},
   "source": [
    "Nodes: 1399810\n",
    "\n",
    "Ways: 279431 "
   ]
  },
  {
   "cell_type": "markdown",
   "metadata": {},
   "source": [
    "### Number of nodes and ways that have at least one 'tag' tag"
   ]
  },
  {
   "cell_type": "code",
   "execution_count": null,
   "metadata": {
    "collapsed": true
   },
   "outputs": [],
   "source": [
    "sqlite> select count(*) from (select * from nodes_tags group by id) as z;\n",
    "sqlite> select count(*) from (select * from ways_tags group by id) as z;"
   ]
  },
  {
   "cell_type": "markdown",
   "metadata": {},
   "source": [
    "Nodes: 58130\n",
    "\n",
    "Ways: 278861\n",
    "\n",
    "### Percentage of elements having at least 1 'tag' tag"
   ]
  },
  {
   "cell_type": "code",
   "execution_count": 22,
   "metadata": {},
   "outputs": [
    {
     "name": "stdout",
     "output_type": "stream",
     "text": [
      "Nodes: 4.2%\n",
      "Ways: 99.8%\n"
     ]
    }
   ],
   "source": [
    "print('Nodes: {:.1%}'.format(58130/1399810))\n",
    "print('Ways: {:.1%}'.format(278861/279431))"
   ]
  },
  {
   "cell_type": "markdown",
   "metadata": {},
   "source": [
    "This percentage is much higher for way elements than for node elements. \n",
    "\n",
    "Now let us have a look at the average number of 'tag' tags for node and way elements that have at least 1 'tag' tag. To calculate this, we first need to know the total number of 'tag' tags for nodes and ways:"
   ]
  },
  {
   "cell_type": "code",
   "execution_count": null,
   "metadata": {
    "collapsed": true
   },
   "outputs": [],
   "source": [
    "sqlite> select count(*) from nodes_tags; \n",
    "sqlite> select count(*) from ways_tags;"
   ]
  },
  {
   "cell_type": "markdown",
   "metadata": {},
   "source": [
    "Nodes: 203906\n",
    "\n",
    "Ways: 681662\n",
    "\n",
    "### Percentage of elements having at least 1 'tag' tag"
   ]
  },
  {
   "cell_type": "code",
   "execution_count": 27,
   "metadata": {},
   "outputs": [
    {
     "name": "stdout",
     "output_type": "stream",
     "text": [
      "Nodes: 3.5\n",
      "Ways: 2.4\n"
     ]
    }
   ],
   "source": [
    "print('Nodes: {:.1f}'.format(203906/58130))\n",
    "print('Ways: {:.1f}'.format(681662/278861))"
   ]
  },
  {
   "cell_type": "markdown",
   "metadata": {},
   "source": [
    "The percentage of elements having at least 1 'tag' subtag is much lower for nodes than for ways. However, the 'tagged' nodes have, in average, more 'tag' subtags than the 'tagged' ways. "
   ]
  },
  {
   "cell_type": "markdown",
   "metadata": {},
   "source": [
    "### Average number of nodes per way element\n",
    "\n",
    "To compute this average, we must divide the total number of nodes id in ways_nodes by the number of unique ways id in this same table. We multiply by 1.0 to convert the total number of nodes id from integer to float, so that the division returns a float that we can round.  "
   ]
  },
  {
   "cell_type": "code",
   "execution_count": null,
   "metadata": {
    "collapsed": true
   },
   "outputs": [],
   "source": [
    "sqlite> select round((select count(*) from ways_nodes)*1.0 / \n",
    "                     (select count(*) from (select * from ways_nodes group by id) as z),1);"
   ]
  },
  {
   "cell_type": "markdown",
   "metadata": {},
   "source": [
    "7.7\n",
    "\n",
    "### Number of unique users\n",
    "In order to compute the number of unique users, we first combine (with UNION ALL caluse) the users that appear in the nodes and ways tables. Then, we group by user id and count the number of groups as we did above for the number of nodes with at least one 'tag' subtag."
   ]
  },
  {
   "cell_type": "code",
   "execution_count": null,
   "metadata": {
    "collapsed": true
   },
   "outputs": [],
   "source": [
    "sqlite> select count (*) from (\n",
    "            select count(*) from (\n",
    "                select user from nodes union all select user from ways) as z \n",
    "                     group by z.user) as y;"
   ]
  },
  {
   "cell_type": "markdown",
   "metadata": {},
   "source": [
    "911"
   ]
  },
  {
   "cell_type": "markdown",
   "metadata": {},
   "source": [
    "<a id='other_ideas'></a>\n",
    "## Other ideas about the dataset"
   ]
  },
  {
   "cell_type": "markdown",
   "metadata": {},
   "source": [
    "### Distribution of tags per users\n",
    "\n",
    "Here the aim is to have an idea of the distribution of tags per user. Were most of the tags entered by a small number of users, or do we have a large community of users who all contributed to a similar extent? Using Python SQLite DB API, we extract from the database the number of tags per user, then plot it as box plot and histogram.  "
   ]
  },
  {
   "cell_type": "code",
   "execution_count": 29,
   "metadata": {},
   "outputs": [],
   "source": [
    "conn = sqlite3.connect('Marseille_OSM.db')\n",
    "cursor = conn.cursor()\n",
    "# the output of the quesry is a table with user name and total number of 'tags', \n",
    "# sorted in descending order of number of tags.\n",
    "cursor.execute('select z.user, count(*) as num from (select user from nodes union all select user from ways) as z group by z.user order by num desc')\n",
    "tag_per_user = cursor.fetchall()\n",
    "conn.close()"
   ]
  },
  {
   "cell_type": "code",
   "execution_count": 35,
   "metadata": {},
   "outputs": [],
   "source": [
    "# Extract list of number of tags per user from list of tuples \n",
    "nb_tags = [x[1] for x in tag_per_user]"
   ]
  },
  {
   "cell_type": "code",
   "execution_count": 33,
   "metadata": {
    "collapsed": true
   },
   "outputs": [],
   "source": [
    "# Re-use a function that was defined in sytep2 notebook\n",
    "# Function that takes the list of value and the k-tag as input and plots \n",
    "# the boxplot and histogram of the values in the list.\n",
    "def boxplot_and_hist(val_list,k_tag):\n",
    "    plt.figure()\n",
    "    # boxplot\n",
    "    # the outliers will be depicted as green diamonds.\n",
    "    green_diamond = dict(markerfacecolor='g', marker='D')\n",
    "    ax1 = plt.subplot(1,2,1)\n",
    "    ax1.set_title('Box plot')\n",
    "    ax1.boxplot(val_list,flierprops=green_diamond)\n",
    "    plt.xlabel('')\n",
    "    plt.ylabel(k_tag);\n",
    "    # histogram\n",
    "    ax2 = plt.subplot(1,2,2)\n",
    "    ax2.set_title('Histogram')\n",
    "    ax2.hist(val_list)\n",
    "    plt.xlabel(k_tag);\n",
    "    plt.ylabel('frequency');"
   ]
  },
  {
   "cell_type": "code",
   "execution_count": 36,
   "metadata": {},
   "outputs": [
    {
     "data": {
      "image/png": "[encoded data removed]",
      "text/plain": [
       "<matplotlib.figure.Figure at 0xbf73400>"
      ]
     },
     "metadata": {},
     "output_type": "display_data"
    }
   ],
   "source": [
    "boxplot_and_hist(nb_tags,'nb of tags per user')"
   ]
  },
  {
   "cell_type": "markdown",
   "metadata": {},
   "source": [
    "As can be seen in the box plot, there are several outliers in the upper part of the distribution. This means that a small group of user is responsible for a very large number of tags. Let us see the top 15 contributors:"
   ]
  },
  {
   "cell_type": "code",
   "execution_count": 37,
   "metadata": {},
   "outputs": [
    {
     "data": {
      "text/plain": [
       "[('Emilien', 456937),\n",
       " ('Ecologeek', 365890),\n",
       " ('FrançoiseR', 174075),\n",
       " ('Jepau', 167380),\n",
       " ('Esperanza36', 125077),\n",
       " ('cquest', 69213),\n",
       " ('M GM', 51840),\n",
       " ('Jeremy G', 28254),\n",
       " ('Pieren', 27837),\n",
       " ('gbassiere', 27573),\n",
       " ('PierenBot', 23556),\n",
       " ('Virgile1994', 19034),\n",
       " ('tuxayo', 9961),\n",
       " ('MarbolanGos', 8627),\n",
       " ('jseigneuret', 8468)]"
      ]
     },
     "execution_count": 37,
     "metadata": {},
     "output_type": "execute_result"
    }
   ],
   "source": [
    "tag_per_user[:15]"
   ]
  },
  {
   "cell_type": "code",
   "execution_count": 44,
   "metadata": {},
   "outputs": [
    {
     "name": "stdout",
     "output_type": "stream",
     "text": [
      "The top 7 contributors (out of 911 contributors) entered 84% of the total number of tags.\n"
     ]
    }
   ],
   "source": [
    "print('The top 7 contributors (out of 911 contributors) entered {:.0%} of the total number of tags.'.\\\n",
    "      format(sum(nb_tags[0:7])/sum(nb_tags)))"
   ]
  },
  {
   "cell_type": "markdown",
   "metadata": {},
   "source": [
    "### Map growth dynamics\n",
    "\n",
    "In this section we want to see how active the community of contributors has been in the last 6 years. We use queries like the one here below for year 2017 to know the number of nodes and ways elements created each year since 2013.  "
   ]
  },
  {
   "cell_type": "code",
   "execution_count": null,
   "metadata": {
    "collapsed": true
   },
   "outputs": [],
   "source": [
    "sqlite> select count(*) from (select timestamp from nodes union all select timestamp from ways) \n",
    "    as z where (date(z.timestamp) < '2018-01-01' and date(z.timestamp) > '2016-12-31');"
   ]
  },
  {
   "cell_type": "markdown",
   "metadata": {},
   "source": [
    "Node and way elements creation:\n",
    "    - 2013: 64118\n",
    "    - 2014: 28817\n",
    "    - 2015: 43051\n",
    "    - 2016: 103196\n",
    "    - 2017: 76155\n",
    "    - 2018: 64797\n",
    "\n",
    "There was a peak of contributions in 2016."
   ]
  },
  {
   "cell_type": "markdown",
   "metadata": {},
   "source": [
    "### Amenity tagging homogeneity in node elements\n",
    "\n",
    "In this section we want to have a closer look at the tags related to amenities. First we want to count the number of tags whose key looks like amenity."
   ]
  },
  {
   "cell_type": "code",
   "execution_count": null,
   "metadata": {
    "collapsed": true
   },
   "outputs": [],
   "source": [
    "sqlite> select key, count(*) as num from nodes_tags where key like 'amenit%' group by key order by num desc;"
   ]
  },
  {
   "cell_type": "markdown",
   "metadata": {},
   "source": [
    "- amenity: 5177\n",
    "- amenity_1: 6\n",
    "- amenity_2: 1\n",
    "\n",
    "As expected, 'amenity' is the very most commonly used keyword. Let us have a look at the tags of the nodes having 'amenity_1' as one of the key-tag. 0"
   ]
  },
  {
   "cell_type": "code",
   "execution_count": null,
   "metadata": {
    "collapsed": true
   },
   "outputs": [],
   "source": [
    "select * from nodes_tags where id in (select n.id from nodes n join nodes_tags nt on n.id = nt.id where nt.key == 'amenity_1');"
   ]
  },
  {
   "cell_type": "markdown",
   "metadata": {},
   "source": [
    "![amenity_1_query_results - OSM map](amenity_1_query_results.png)"
   ]
  },
  {
   "cell_type": "markdown",
   "metadata": {},
   "source": [
    "We see that the keys 'amenity_1' and 'amenity_2' were used when the user wanted to assign several amenity features to the same node element. \n",
    "This is not in line with the best practice \"one feature, one OSM element\" promoted for OSM tagging (<a href=\"#ref 8\">ref 8</a>) \n",
    "\n",
    "We could split the identified nodes and ways elements with more than 1 amenity (that is those with tags amenity_1 or even amenity_2...) into separate nodes. In practice, however, this might be tricky to perform with a routine for several reasons: need to have an account (user and user id), and then need to know which new, unique node id can be used for each node we want to 'duplicate'."
   ]
  },
  {
   "cell_type": "markdown",
   "metadata": {},
   "source": [
    "<a id='conclusion'></a>\n",
    "## Conclusions\n",
    "\n",
    "The wrangling of Marseille OSM data was performed in 2 steps. First, the code to be used to audit and clean the data was tested and tuned on a smaller OSM file corresponding to the very town center. Then all these functions were integrated into a single shape_element function so that the generation of the CSV tables with clean data could be performed while looping only once over the 360 MB OSM file. An existing database of address, the BAN (<a href=\"#ref 6\">ref 6</a>), was used to correct and/or complete street, postcode and city data when applicable. \n",
    "\n",
    "Once the CSV tables were imported into the SQL database, basic queries were made to have an overview of the dataset. There are more than 1.3M nodes and 250k ways, from less than 1000 contributors. It was also found that 7 contributors are responsible for the 84% of the more than 800k tags. The activity in the last 6 years shows a peak of contributions in 2016.\n",
    "\n",
    "Two ideas for improving the data were suggested :\n",
    "- when auditing the closed way elements, it was found that about 260 of them do not follow the definition given by OSM wiki.\n",
    "- when querying the database for amenity tags, it was found that the keys 'amenity_1' and 'amenity_2' were used to associate several kinds of amenities to the same node element, which is not in line with OSM tagging best practice.\n",
    "These improvements would make the dataset more homogeneous and standardized. However, their implementation means 'splitting' existing elements which cannot be made automatically without a strict control of the node and way elements id.\n",
    "\n",
    "Finally, another suggestion would be to improve the address completing process by using the latitude and longitude information that is also present in the BAN database. Indeed, the proposed function may produce erroneous street-postcode-city associations if used on an OSM file where there are more than 1 city (in this case the street name is no longer unique - there is a 'Rue de la République' in almost any city in France :-). An improvement of this function would make it possible to extend the OSM dataset to a larger latitude-longitude box, while keeping the interesting address-completion feature of the code.   "
   ]
  },
  {
   "cell_type": "markdown",
   "metadata": {},
   "source": [
    "<a id='ref'></a>\n",
    "## References"
   ]
  },
  {
   "cell_type": "markdown",
   "metadata": {
    "collapsed": true
   },
   "source": [
    "<a id='ref 1'></a> ref 1: https://www.openstreetmap.org/\n",
    "\n",
    "<a id='ref 2'></a> ref 2: https://gist.github.com/swwelch/f1144229848b407e0a5d13fcb7fbbd6f\n",
    "\n",
    "<a id='ref 3'></a> ref 3: http://docs.python-cerberus.org/en/stable/\n",
    "\n",
    "<a id='ref 4'></a> ref 4: https://adresse.data.gouv.fr/\n",
    "\n",
    "<a id='ref 5'></a> ref 5: https://wiki.openstreetmap.org/wiki/Way#Closed_way\n",
    "\n",
    "<a id='ref 6'></a> ref 6: https://adresse.data.gouv.fr/\n",
    "\n",
    "<a id='ref 7'></a> ref 7: https://en.wikipedia.org/wiki/OpenStreetMap\n",
    "\n",
    "<a id='ref 8'></a> ref 8: https://help.openstreetmap.org/questions/26625/buildings-with-more-than-one-amenity"
   ]
  }
 ],
 "metadata": {
  "kernelspec": {
   "display_name": "Python 3",
   "language": "python",
   "name": "python3"
  },
  "language_info": {
   "codemirror_mode": {
    "name": "ipython",
    "version": 3
   },
   "file_extension": ".py",
   "mimetype": "text/x-python",
   "name": "python",
   "nbconvert_exporter": "python",
   "pygments_lexer": "ipython3",
   "version": "3.6.1"
  }
 },
 "nbformat": 4,
 "nbformat_minor": 2
}
